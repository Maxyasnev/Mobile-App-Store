{
 "cells": [
  {
   "cell_type": "code",
   "execution_count": 8,
   "id": "70c60b48",
   "metadata": {},
   "outputs": [],
   "source": [
    "import pandas as pd"
   ]
  },
  {
   "cell_type": "code",
   "execution_count": 44,
   "id": "9509e939",
   "metadata": {},
   "outputs": [],
   "source": [
    "AppleStore = pd.read_csv('AppleStore.csv', sep='\\t', header=None)\n",
    "appleStore_description = pd.read_csv(open('appleStore_description.csv', 'r', encoding='ISO-8859-1'), sep='\\t', header=None)"
   ]
  },
  {
   "cell_type": "code",
   "execution_count": 45,
   "id": "b2aa7b59",
   "metadata": {},
   "outputs": [
    {
     "data": {
      "text/html": [
       "<div>\n",
       "<style scoped>\n",
       "    .dataframe tbody tr th:only-of-type {\n",
       "        vertical-align: middle;\n",
       "    }\n",
       "\n",
       "    .dataframe tbody tr th {\n",
       "        vertical-align: top;\n",
       "    }\n",
       "\n",
       "    .dataframe thead th {\n",
       "        text-align: right;\n",
       "    }\n",
       "</style>\n",
       "<table border=\"1\" class=\"dataframe\">\n",
       "  <thead>\n",
       "    <tr style=\"text-align: right;\">\n",
       "      <th></th>\n",
       "      <th>0</th>\n",
       "    </tr>\n",
       "  </thead>\n",
       "  <tbody>\n",
       "    <tr>\n",
       "      <th>0</th>\n",
       "      <td>,\"id\",\"track_name\",\"size_bytes\",\"currency\",\"pr...</td>\n",
       "    </tr>\n",
       "    <tr>\n",
       "      <th>1</th>\n",
       "      <td>1,\"281656475\",\"PAC-MAN Premium\",100788224,\"USD...</td>\n",
       "    </tr>\n",
       "    <tr>\n",
       "      <th>2</th>\n",
       "      <td>2,\"281796108\",\"Evernote - stay organized\",1585...</td>\n",
       "    </tr>\n",
       "    <tr>\n",
       "      <th>3</th>\n",
       "      <td>3,\"281940292\",\"WeatherBug - Local Weather, Rad...</td>\n",
       "    </tr>\n",
       "    <tr>\n",
       "      <th>4</th>\n",
       "      <td>4,\"282614216\",\"eBay: Best App to Buy, Sell, Sa...</td>\n",
       "    </tr>\n",
       "  </tbody>\n",
       "</table>\n",
       "</div>"
      ],
      "text/plain": [
       "                                                   0\n",
       "0  ,\"id\",\"track_name\",\"size_bytes\",\"currency\",\"pr...\n",
       "1  1,\"281656475\",\"PAC-MAN Premium\",100788224,\"USD...\n",
       "2  2,\"281796108\",\"Evernote - stay organized\",1585...\n",
       "3  3,\"281940292\",\"WeatherBug - Local Weather, Rad...\n",
       "4  4,\"282614216\",\"eBay: Best App to Buy, Sell, Sa..."
      ]
     },
     "execution_count": 45,
     "metadata": {},
     "output_type": "execute_result"
    }
   ],
   "source": [
    "AppleStore.head()"
   ]
  },
  {
   "cell_type": "code",
   "execution_count": 46,
   "id": "b369751f",
   "metadata": {},
   "outputs": [
    {
     "data": {
      "text/html": [
       "<div>\n",
       "<style scoped>\n",
       "    .dataframe tbody tr th:only-of-type {\n",
       "        vertical-align: middle;\n",
       "    }\n",
       "\n",
       "    .dataframe tbody tr th {\n",
       "        vertical-align: top;\n",
       "    }\n",
       "\n",
       "    .dataframe thead th {\n",
       "        text-align: right;\n",
       "    }\n",
       "</style>\n",
       "<table border=\"1\" class=\"dataframe\">\n",
       "  <thead>\n",
       "    <tr style=\"text-align: right;\">\n",
       "      <th></th>\n",
       "      <th>0</th>\n",
       "    </tr>\n",
       "  </thead>\n",
       "  <tbody>\n",
       "    <tr>\n",
       "      <th>0</th>\n",
       "      <td>id,\"track_name\",\"size_bytes\",\"app_desc\";;;;;;</td>\n",
       "    </tr>\n",
       "    <tr>\n",
       "      <th>1</th>\n",
       "      <td>281656475,\"PAC-MAN Premium\",\"100788224\",\"SAVE ...</td>\n",
       "    </tr>\n",
       "    <tr>\n",
       "      <th>2</th>\n",
       "      <td>;;;;;;</td>\n",
       "    </tr>\n",
       "    <tr>\n",
       "      <th>3</th>\n",
       "      <td>One of the most popular video games in arcade ...</td>\n",
       "    </tr>\n",
       "    <tr>\n",
       "      <th>4</th>\n",
       "      <td>2015 World Video Game Hall of Fame Inductee;;;;;;</td>\n",
       "    </tr>\n",
       "  </tbody>\n",
       "</table>\n",
       "</div>"
      ],
      "text/plain": [
       "                                                   0\n",
       "0      id,\"track_name\",\"size_bytes\",\"app_desc\";;;;;;\n",
       "1  281656475,\"PAC-MAN Premium\",\"100788224\",\"SAVE ...\n",
       "2                                             ;;;;;;\n",
       "3  One of the most popular video games in arcade ...\n",
       "4  2015 World Video Game Hall of Fame Inductee;;;;;;"
      ]
     },
     "execution_count": 46,
     "metadata": {},
     "output_type": "execute_result"
    }
   ],
   "source": [
    "appleStore_description.head()"
   ]
  },
  {
   "cell_type": "code",
   "execution_count": null,
   "id": "b8b9d843",
   "metadata": {},
   "outputs": [],
   "source": []
  }
 ],
 "metadata": {
  "kernelspec": {
   "display_name": "Python 3 (ipykernel)",
   "language": "python",
   "name": "python3"
  },
  "language_info": {
   "codemirror_mode": {
    "name": "ipython",
    "version": 3
   },
   "file_extension": ".py",
   "mimetype": "text/x-python",
   "name": "python",
   "nbconvert_exporter": "python",
   "pygments_lexer": "ipython3",
   "version": "3.9.12"
  }
 },
 "nbformat": 4,
 "nbformat_minor": 5
}
